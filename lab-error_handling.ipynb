{
 "cells": [
  {
   "cell_type": "markdown",
   "metadata": {},
   "source": [
    "# LAB | Error Handling in Python\n",
    "\n",
    "## Overview\n",
    "This exercise notebook will help you practice error handling in Python using exceptions. You will write programs that handle various types of exceptions to ensure your code runs smoothly and handles errors gracefully."
   ]
  },
  {
   "cell_type": "markdown",
   "metadata": {},
   "source": [
    "### Exercise 1: Handle ZeroDivisionError\n",
    "Write a Python program to handle a `ZeroDivisionError` exception when dividing a number by zero.\n"
   ]
  },
  {
   "cell_type": "code",
   "execution_count": 2,
   "metadata": {},
   "outputs": [
    {
     "name": "stdout",
     "output_type": "stream",
     "text": [
      "Error: Cannot divide by zero.\n"
     ]
    }
   ],
   "source": [
    "def divide_numbers(a, b):\n",
    "    try:\n",
    "        result = a / b\n",
    "    except ZeroDivisionError:\n",
    "        print(\"Error: Cannot divide by zero.\")\n",
    "        return None\n",
    "    else:\n",
    "        print(f\"The result of {a} divided by {b} is {result}\")\n",
    "        return result\n",
    "\n",
    "# Example usage\n",
    "num1 = float(input(\"Enter the numerator: \"))\n",
    "num2 = float(input(\"Enter the denominator: \"))\n",
    "\n",
    "divide_numbers(num1, num2)\n"
   ]
  },
  {
   "cell_type": "markdown",
   "metadata": {},
   "source": [
    "\n",
    "### Exercise 2: Raise ValueError for Invalid Input\n",
    "Write a Python program that prompts the user to input an integer and raises a `ValueError` exception if the input is not a valid integer.\n",
    "\n"
   ]
  },
  {
   "cell_type": "code",
   "execution_count": 4,
   "metadata": {},
   "outputs": [
    {
     "name": "stdout",
     "output_type": "stream",
     "text": [
      "You entered: 12.8\n",
      "Invalid input! That is not a valid integer.\n"
     ]
    }
   ],
   "source": [
    "def get_integer_input():\n",
    "    user_input = input(\"Please enter an integer: \")\n",
    "    print(f\"You entered: {user_input}\")\n",
    "    \n",
    "    try:\n",
    "        value = int(user_input)\n",
    "        print(f\"Valid integer: {value}\")\n",
    "        return value\n",
    "    except ValueError:\n",
    "        raise ValueError(\"Invalid input! That is not a valid integer.\")\n",
    "\n",
    "# Example usage\n",
    "try:\n",
    "    get_integer_input()\n",
    "except ValueError as ve:\n",
    "    print(ve)\n"
   ]
  },
  {
   "cell_type": "markdown",
   "metadata": {},
   "source": [
    "\n",
    "\n",
    "### Exercise 3: Handle FileNotFoundError\n",
    "Write a Python program that opens a file and handles a `FileNotFoundError` exception if the file does not exist.\n",
    "\n"
   ]
  },
  {
   "cell_type": "code",
   "execution_count": 5,
   "metadata": {},
   "outputs": [
    {
     "name": "stdout",
     "output_type": "stream",
     "text": [
      "Error: The file 'candycorn' was not found.\n"
     ]
    }
   ],
   "source": [
    "def open_file(filename):\n",
    "    try:\n",
    "        with open(filename, 'r') as file:\n",
    "            content = file.read()\n",
    "            print(\"File content:\")\n",
    "            print(content)\n",
    "    except FileNotFoundError:\n",
    "        print(f\"Error: The file '{filename}' was not found.\")\n",
    "\n",
    "# Example usage\n",
    "filename = input(\"Enter the filename to open: \")\n",
    "open_file(filename)\n"
   ]
  },
  {
   "cell_type": "markdown",
   "metadata": {},
   "source": [
    "\n",
    "\n",
    "### Exercise 4: Raise TypeError for Non-Numerical Input\n",
    "Write a Python program that prompts the user to input two numbers and raises a `TypeError` exception if the inputs are not numerical.\n",
    "\n"
   ]
  },
  {
   "cell_type": "code",
   "execution_count": 6,
   "metadata": {},
   "outputs": [
    {
     "name": "stdout",
     "output_type": "stream",
     "text": [
      "You entered: 'b' and '12'\n",
      "Invalid input! Both inputs must be numerical.\n"
     ]
    }
   ],
   "source": [
    "def get_two_numbers():\n",
    "    input1 = input(\"Enter the first number: \")\n",
    "    input2 = input(\"Enter the second number: \")\n",
    "\n",
    "    print(f\"You entered: '{input1}' and '{input2}'\")\n",
    "\n",
    "    try:\n",
    "        num1 = float(input1)\n",
    "        num2 = float(input2)\n",
    "        print(f\"Valid numbers: {num1} and {num2}\")\n",
    "        return num1, num2\n",
    "    except ValueError:\n",
    "        raise TypeError(\"Invalid input! Both inputs must be numerical.\")\n",
    "\n",
    "# Example usage\n",
    "try:\n",
    "    get_two_numbers()\n",
    "except TypeError as te:\n",
    "    print(te)\n"
   ]
  },
  {
   "cell_type": "markdown",
   "metadata": {},
   "source": [
    "\n",
    "\n",
    "### Exercise 5: Handle PermissionError\n",
    "Write a Python program that opens a file and handles a `PermissionError` exception if there is a permission issue.\n",
    "\n",
    "\n"
   ]
  },
  {
   "cell_type": "code",
   "execution_count": 10,
   "metadata": {},
   "outputs": [
    {
     "name": "stdout",
     "output_type": "stream",
     "text": [
      "You entered: file.txt\n",
      "Error: The file 'file.txt' does not exist.\n"
     ]
    }
   ],
   "source": [
    "def open_file_with_permission_check():\n",
    "    filename = input(\"Enter the filename to open: \")\n",
    "    print(f\"You entered: {filename}\")\n",
    "    \n",
    "    try:\n",
    "        with open(filename, 'r') as file:\n",
    "            content = file.read()\n",
    "            print(\"File content:\")\n",
    "            print(content)\n",
    "    except PermissionError:\n",
    "        print(f\"Error: Permission denied when trying to open '{filename}'.\")\n",
    "    except FileNotFoundError:\n",
    "        print(f\"Error: The file '{filename}' does not exist.\")\n",
    "\n",
    "# Run the function\n",
    "open_file_with_permission_check()\n",
    "\n",
    "\n",
    "\n"
   ]
  },
  {
   "cell_type": "markdown",
   "metadata": {},
   "source": [
    "\n",
    "\n",
    "### Exercise 6: Handle IndexError in List Operations\n",
    "Write a Python program that executes an operation on a list and handles an `IndexError` exception if the index is out of range.\n",
    "\n",
    "\n"
   ]
  },
  {
   "cell_type": "code",
   "execution_count": 11,
   "metadata": {},
   "outputs": [
    {
     "name": "stdout",
     "output_type": "stream",
     "text": [
      "List contents: ['pickle', 'frog', 'hamburger', 'date']\n",
      "You entered: love\n",
      "Error: Please enter a valid integer index.\n"
     ]
    }
   ],
   "source": [
    "def access_list_element():\n",
    "    my_list = ['pickle', 'frog', 'hamburger', 'date']\n",
    "    print(\"List contents:\", my_list)\n",
    "\n",
    "    try:\n",
    "        index_input = input(\"Enter the index of the item you want to access: \")\n",
    "        print(f\"You entered: {index_input}\")\n",
    "        index = int(index_input)\n",
    "        item = my_list[index]\n",
    "        print(f\"Item at index {index}: {item}\")\n",
    "    except IndexError:\n",
    "        print(\"Error: Index out of range.\")\n",
    "    except ValueError:\n",
    "        print(\"Error: Please enter a valid integer index.\")\n",
    "\n",
    "# Pass the function\n",
    "access_list_element()\n"
   ]
  },
  {
   "cell_type": "markdown",
   "metadata": {},
   "source": [
    "\n",
    "\n",
    "### Exercise 7: Handle KeyboardInterrupt Exception\n",
    "Write a Python program that prompts the user to input a number and handles a `KeyboardInterrupt` exception if the user cancels the input.\n",
    "\n"
   ]
  },
  {
   "cell_type": "code",
   "execution_count": 13,
   "metadata": {},
   "outputs": [
    {
     "name": "stdout",
     "output_type": "stream",
     "text": [
      "You entered: alphanum\n",
      "Invalid input! Please enter a valid number.\n"
     ]
    }
   ],
   "source": [
    "def prompt_for_number():\n",
    "    try:\n",
    "        user_input = input(\"Please enter a number: \")\n",
    "        print(f\"You entered: {user_input}\")\n",
    "        number = float(user_input)\n",
    "        print(f\"Valid number: {number}\")\n",
    "        return number\n",
    "    except KeyboardInterrupt:\n",
    "        print(\"\\nInput cancelled by user (KeyboardInterrupt).\")\n",
    "    except ValueError:\n",
    "        print(\"Invalid input! Please enter a valid number.\")\n",
    "\n",
    "# Run the function\n",
    "prompt_for_number()\n"
   ]
  },
  {
   "cell_type": "markdown",
   "metadata": {},
   "source": [
    "\n",
    "\n",
    "### Exercise 8: Handle ArithmeticError\n",
    "Write a Python program that executes division and handles an `ArithmeticError` exception if there is an arithmetic error.\n",
    "\n"
   ]
  },
  {
   "cell_type": "code",
   "execution_count": 16,
   "metadata": {},
   "outputs": [
    {
     "name": "stdout",
     "output_type": "stream",
     "text": [
      "You entered numerator: 12\n",
      "You entered denominator: g\n",
      "Invalid input, pal! Please enter a numeric value.\n"
     ]
    }
   ],
   "source": [
    "def perform_division():\n",
    "    try:\n",
    "        num1_input = input(\"Enter the numerator: \")\n",
    "        num2_input = input(\"Enter the denominator: \")\n",
    "        \n",
    "        print(f\"You entered numerator: {num1_input}\")\n",
    "        print(f\"You entered denominator: {num2_input}\")\n",
    "        \n",
    "        num1 = float(num1_input)\n",
    "        num2 = float(num2_input)\n",
    "        \n",
    "        result = num1 / num2\n",
    "        print(f\"Result: {num1} / {num2} = {result}\")\n",
    "    \n",
    "    except ArithmeticError as ae:\n",
    "        print(\"Arithmetic error occurred:\", ae)\n",
    "    except ValueError:\n",
    "        print(\"Invalid input, pal! Please enter a numeric value.\")\n",
    "\n",
    "# Run the function\n",
    "perform_division()\n"
   ]
  },
  {
   "cell_type": "markdown",
   "metadata": {},
   "source": [
    "\n",
    "\n",
    "### Exercise 9: Handle UnicodeDecodeError\n",
    "Write a Python program that opens a file and handles a `UnicodeDecodeError` exception if there is an encoding issue.\n",
    "\n"
   ]
  },
  {
   "cell_type": "code",
   "execution_count": 18,
   "metadata": {},
   "outputs": [
    {
     "name": "stdout",
     "output_type": "stream",
     "text": [
      "You entered: desktop.ini\n",
      "Error: The file 'desktop.ini' does not exist.\n"
     ]
    }
   ],
   "source": [
    "def open_file_with_encoding_check():\n",
    "    filename = input(\"Enter the filename to open: \")\n",
    "    print(f\"You entered: {filename}\")\n",
    "    \n",
    "    try:\n",
    "        with open(filename, 'r', encoding='utf-8') as file:\n",
    "            content = file.read()\n",
    "            print(\"File content:\")\n",
    "            print(content)\n",
    "    except UnicodeDecodeError:\n",
    "        print(f\"Error: Unable to decode the contents of '{filename}' with UTF-8 encoding.\")\n",
    "    except FileNotFoundError:\n",
    "        print(f\"Error: The file '{filename}' does not exist.\")\n",
    "    except PermissionError:\n",
    "        print(f\"Error: Permission denied when trying to open '{filename}'.\")\n",
    "\n",
    "# Run the function\n",
    "open_file_with_encoding_check()\n"
   ]
  },
  {
   "cell_type": "markdown",
   "metadata": {},
   "source": [
    "\n",
    "\n",
    "### Exercise 10: Handle AttributeError\n",
    "Write a Python program that executes an operation on an object and handles an `AttributeError` exception if the attribute does not exist.\n",
    "\n"
   ]
  },
  {
   "cell_type": "code",
   "execution_count": 17,
   "metadata": {},
   "outputs": [
    {
     "name": "stdout",
     "output_type": "stream",
     "text": [
      "You entered: title\n",
      "Error: The attribute 'title' does not exist on the object.\n"
     ]
    }
   ],
   "source": [
    "class SampleObject:\n",
    "    def __init__(self):\n",
    "        self.name = \"ChatGPT\"\n",
    "        self.version = 4.0\n",
    "\n",
    "def access_object_attribute():\n",
    "    obj = SampleObject()\n",
    "    \n",
    "    attr_name = input(\"Enter the attribute name to access (e.g., 'name' or 'version'): \")\n",
    "    print(f\"You entered: {attr_name}\")\n",
    "    \n",
    "    try:\n",
    "        value = getattr(obj, attr_name)\n",
    "        print(f\"The value of '{attr_name}' is: {value}\")\n",
    "    except AttributeError:\n",
    "        print(f\"Error: The attribute '{attr_name}' does not exist on the object.\")\n",
    "\n",
    "# Run the function\n",
    "access_object_attribute()\n"
   ]
  },
  {
   "cell_type": "markdown",
   "metadata": {},
   "source": [
    "\n",
    "\n",
    "## Bonus Exercises\n",
    "\n",
    "### Bonus Exercise 1: Handle Multiple Exceptions\n",
    "Write a Python program that demonstrates handling multiple exceptions in one block.\n",
    "\n",
    "\n"
   ]
  },
  {
   "cell_type": "code",
   "execution_count": 20,
   "metadata": {},
   "outputs": [
    {
     "name": "stdout",
     "output_type": "stream",
     "text": [
      "You entered numerator: a\n",
      "You entered denominator: 3a\n",
      "Error: Please enter valid numbers.\n"
     ]
    }
   ],
   "source": [
    "def divide_user_inputs():\n",
    "    try:\n",
    "        num1_input = input(\"Enter the numerator: \")\n",
    "        num2_input = input(\"Enter the denominator: \")\n",
    "        \n",
    "        print(f\"You entered numerator: {num1_input}\")\n",
    "        print(f\"You entered denominator: {num2_input}\")\n",
    "        \n",
    "        num1 = float(num1_input)\n",
    "        num2 = float(num2_input)\n",
    "        \n",
    "        result = num1 / num2\n",
    "        print(f\"Result: {num1} / {num2} = {result}\")\n",
    "\n",
    "    except ValueError:\n",
    "        print(\"Error: Please enter valid numbers.\")\n",
    "    except ZeroDivisionError:\n",
    "        print(\"Error: Division by zero is not allowed.\")\n",
    "    except Exception as e:\n",
    "        print(f\"An unexpected error occurred: {e}\")\n",
    "\n",
    "# Run the function\n",
    "divide_user_inputs()\n",
    "\n"
   ]
  },
  {
   "cell_type": "markdown",
   "metadata": {},
   "source": [
    "\n",
    "\n",
    "### Bonus Exercise 2: Create Custom Exception\n",
    "Create a custom exception class and raise it in your code when certain conditions are met.\n",
    "\n",
    "\n"
   ]
  },
  {
   "cell_type": "code",
   "execution_count": 22,
   "metadata": {},
   "outputs": [
    {
     "name": "stdout",
     "output_type": "stream",
     "text": [
      "You entered: e\n",
      "Error: Please enter a valid number.\n"
     ]
    }
   ],
   "source": [
    "# Define custom exception\n",
    "class NegativeNumberError(Exception):\n",
    "    \"\"\"Raised when the input number is negative.\"\"\"\n",
    "    pass\n",
    "\n",
    "def check_positive_number():\n",
    "    try:\n",
    "        user_input = input(\"Enter a positive number: \")\n",
    "        print(f\"You entered: {user_input}\")\n",
    "        \n",
    "        number = float(user_input)\n",
    "        \n",
    "        if number < 0:\n",
    "            raise NegativeNumberError(\"Negative numbers are not allowed.\")\n",
    "        \n",
    "        print(f\"Valid positive number: {number}\")\n",
    "\n",
    "    except NegativeNumberError as nne:\n",
    "        print(f\"Custom Exception: {nne}\")\n",
    "    except ValueError:\n",
    "        print(\"Error: Please enter a valid number.\")\n",
    "    except Exception as e:\n",
    "        print(f\"An unexpected error occurred: {e}\")\n",
    "\n",
    "# Run the function\n",
    "check_positive_number()\n"
   ]
  },
  {
   "cell_type": "markdown",
   "metadata": {},
   "source": [
    "\n",
    "\n",
    "### Bonus Exercise 3: Validate User Input with Exception Handling\n",
    "Write a program that repeatedly prompts the user for valid input until they provide it, using exception handling to manage invalid inputs.\n",
    "\n"
   ]
  },
  {
   "cell_type": "code",
   "execution_count": 23,
   "metadata": {},
   "outputs": [
    {
     "name": "stdout",
     "output_type": "stream",
     "text": [
      "You entered: a\n",
      "Invalid input. Please enter a numeric value.\n",
      "You entered: r\n",
      "Invalid input. Please enter a numeric value.\n",
      "You entered: c\n",
      "Invalid input. Please enter a numeric value.\n",
      "You entered: 3\n",
      "Valid number entered: 3.0\n"
     ]
    },
    {
     "data": {
      "text/plain": [
       "3.0"
      ]
     },
     "execution_count": 23,
     "metadata": {},
     "output_type": "execute_result"
    }
   ],
   "source": [
    "def get_valid_number():\n",
    "    while True:\n",
    "        user_input = input(\"Enter a valid number: \")\n",
    "        print(f\"You entered: {user_input}\")\n",
    "        \n",
    "        try:\n",
    "            number = float(user_input)\n",
    "            print(f\"Valid number entered: {number}\")\n",
    "            return number\n",
    "        except ValueError:\n",
    "            print(\"Invalid input. Please enter a numeric value.\")\n",
    "\n",
    "# Run the function\n",
    "get_valid_number()\n"
   ]
  },
  {
   "cell_type": "markdown",
   "metadata": {},
   "source": [
    "\n",
    "\n",
    "### Bonus Exercise 4: Log Errors to File\n",
    "Modify your error handling to log errors to a text file instead of printing them to the console.\n",
    "\n"
   ]
  },
  {
   "cell_type": "code",
   "execution_count": 24,
   "metadata": {},
   "outputs": [
    {
     "name": "stdout",
     "output_type": "stream",
     "text": [
      "You entered: p\n",
      "Invalid input. Error has been logged.\n",
      "You entered: i\n",
      "Invalid input. Error has been logged.\n",
      "You entered: e\n",
      "Invalid input. Error has been logged.\n",
      "You entered: 12\n",
      "Valid number entered: 12.0\n"
     ]
    },
    {
     "data": {
      "text/plain": [
       "12.0"
      ]
     },
     "execution_count": 24,
     "metadata": {},
     "output_type": "execute_result"
    }
   ],
   "source": [
    "def get_valid_number():\n",
    "    log_file = \"error_log.txt\"\n",
    "    \n",
    "    while True:\n",
    "        user_input = input(\"Enter a valid number: \")\n",
    "        print(f\"You entered: {user_input}\")\n",
    "        \n",
    "        try:\n",
    "            number = float(user_input)\n",
    "            print(f\"Valid number entered: {number}\")\n",
    "            return number\n",
    "        except ValueError as e:\n",
    "            with open(log_file, 'a') as log:\n",
    "                log.write(f\"ValueError: Invalid input '{user_input}' - {e}\\n\")\n",
    "            print(\"Invalid input. Error has been logged.\")\n",
    "\n",
    "# Run the function\n",
    "get_valid_number()\n"
   ]
  },
  {
   "cell_type": "markdown",
   "metadata": {},
   "source": [
    "\n",
    "\n",
    "### Bonus Exercise 5: Retry Logic on Exception\n",
    "Implement retry logic for operations that could fail, allowing users to try again after encountering an error.\n",
    "\n"
   ]
  },
  {
   "cell_type": "code",
   "execution_count": 25,
   "metadata": {},
   "outputs": [
    {
     "name": "stdout",
     "output_type": "stream",
     "text": [
      "You entered: c\n",
      "Invalid input. You have 2 attempt(s) remaining. Error has been logged.\n",
      "You entered: o\n",
      "Invalid input. You have 1 attempt(s) remaining. Error has been logged.\n",
      "You entered: r\n",
      "Invalid input. You have 0 attempt(s) remaining. Error has been logged.\n",
      "Maximum retries exceeded. Exiting.\n"
     ]
    }
   ],
   "source": [
    "def get_valid_number_with_retries(max_retries=3):\n",
    "    log_file = \"error_log.txt\"\n",
    "    attempts = 0\n",
    "\n",
    "    while attempts < max_retries:\n",
    "        user_input = input(\"Enter a valid number: \")\n",
    "        print(f\"You entered: {user_input}\")\n",
    "\n",
    "        try:\n",
    "            number = float(user_input)\n",
    "            print(f\"Valid number entered: {number}\")\n",
    "            return number\n",
    "        except ValueError as e:\n",
    "            attempts += 1\n",
    "            with open(log_file, 'a') as log:\n",
    "                log.write(f\"Attempt {attempts}: Invalid input '{user_input}' - {e}\\n\")\n",
    "            print(f\"Invalid input. You have {max_retries - attempts} attempt(s) remaining. Error has been logged.\")\n",
    "    \n",
    "    print(\"Maximum retries exceeded. Exiting.\")\n",
    "    return None\n",
    "\n",
    "# Run the function\n",
    "get_valid_number_with_retries()\n"
   ]
  }
 ],
 "metadata": {
  "kernelspec": {
   "display_name": "Python 3",
   "language": "python",
   "name": "python3"
  },
  "language_info": {
   "codemirror_mode": {
    "name": "ipython",
    "version": 3
   },
   "file_extension": ".py",
   "mimetype": "text/x-python",
   "name": "python",
   "nbconvert_exporter": "python",
   "pygments_lexer": "ipython3",
   "version": "3.13.3"
  }
 },
 "nbformat": 4,
 "nbformat_minor": 2
}
